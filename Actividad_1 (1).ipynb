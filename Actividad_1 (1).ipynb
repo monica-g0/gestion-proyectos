{
  "nbformat": 4,
  "nbformat_minor": 0,
  "metadata": {
    "colab": {
      "provenance": []
    },
    "kernelspec": {
      "name": "python3",
      "display_name": "Python 3"
    },
    "language_info": {
      "name": "python"
    }
  },
  "cells": [
    {
      "cell_type": "code",
      "execution_count": 1,
      "metadata": {
        "id": "pdDvTccdKUu1"
      },
      "outputs": [],
      "source": [
        "import pandas as pd\n",
        "import numpy as np\n",
        "import matplotlib.pyplot as plt"
      ]
    },
    {
      "cell_type": "code",
      "source": [
        "import pandas as pd\n",
        "from google.colab import files\n",
        "\n",
        "# Cargar el archivo CSV y obtener su contenido\n",
        "data = files.upload()\n",
        "\n",
        "# Intentar leer el archivo CSV con diferentes codificaciones\n",
        "encodings = ['utf-8', 'ISO-8859-1', 'latin1']  # Puedes agregar otras si es necesario\n",
        "\n",
        "for encoding in encodings:\n",
        "    try:\n",
        "        df = pd.read_csv(next(iter(data)), encoding=encoding)\n",
        "        break  # Si tiene éxito, sal del bucle\n",
        "    except UnicodeDecodeError:\n",
        "        continue  # Si falla, intenta la siguiente codificación\n",
        "\n",
        "# Mostrar las primeras 5 filas del DataFrame\n",
        "print(df.head(5))\n"
      ],
      "metadata": {
        "id": "Kft2UgORRQET"
      },
      "execution_count": null,
      "outputs": []
    },
    {
      "cell_type": "code",
      "source": [
        "#Identificar valores nulos por columna\n",
        "valores_nulos=df.isnull().sum()\n",
        "valores_nulos"
      ],
      "metadata": {
        "id": "I5nAT6L4R4D6"
      },
      "execution_count": null,
      "outputs": []
    },
    {
      "cell_type": "code",
      "source": [
        "#Realizamos una copia del dataframe\n",
        "data2=df.copy()"
      ],
      "metadata": {
        "id": "8UGu8AFcVaUC"
      },
      "execution_count": 10,
      "outputs": []
    },
    {
      "cell_type": "code",
      "source": [
        "#Primer método de sustitución de valores nulos\n",
        "#Sustituir valores nulos con promedio o media\n",
        "data2[\"monto_accesorios\"]= data2[\"monto_accesorios\"].fillna(0)\n",
        "data2"
      ],
      "metadata": {
        "id": "KVXr0jg3Vr6d"
      },
      "execution_count": null,
      "outputs": []
    },
    {
      "cell_type": "code",
      "source": [
        "valores_nulos=data2.isnull().sum()\n",
        "valores_nulos"
      ],
      "metadata": {
        "id": "44sPBKOwWZyo"
      },
      "execution_count": null,
      "outputs": []
    },
    {
      "cell_type": "code",
      "source": [
        "#Primer método de sustitución de valores nulos\n",
        "#Sustituir valores nulos con promedio o media\n",
        "data2[\"fraude\"]= data2[\"fraude\"].fillna(0)\n",
        "data2"
      ],
      "metadata": {
        "id": "H_CJJ8PwWlKf"
      },
      "execution_count": null,
      "outputs": []
    },
    {
      "cell_type": "code",
      "source": [
        "valores_nulos=data2.isnull().sum()\n",
        "valores_nulos"
      ],
      "metadata": {
        "id": "2rsk1MV2Xnvx"
      },
      "execution_count": null,
      "outputs": []
    },
    {
      "cell_type": "code",
      "source": [
        "#Sexto método de sustitución de valores nulos\n",
        "#Sustituir valores nulos por valores no nulos hacia atrás backward fill\" (\"bfill\")\n",
        "#Filtro por columnas\n",
        "data2[\"empresa\"] =data2[\"empresa\"].fillna(method=\"bfill\")"
      ],
      "metadata": {
        "id": "ZYfWdu3VX3Mo"
      },
      "execution_count": 19,
      "outputs": []
    },
    {
      "cell_type": "code",
      "source": [
        "valores_nulos=data2.isnull().sum()\n",
        "valores_nulos"
      ],
      "metadata": {
        "colab": {
          "base_uri": "https://localhost:8080/"
        },
        "id": "uUp73vzUX9xN",
        "outputId": "464219e3-9693-4b07-c40f-c251e6545667"
      },
      "execution_count": 21,
      "outputs": [
        {
          "output_type": "execute_result",
          "data": {
            "text/plain": [
              "folio                     0\n",
              "tag                       0\n",
              "folio_solicitud           0\n",
              "fecha                     0\n",
              "marca                     0\n",
              "modelo                    0\n",
              "plazo                     0\n",
              "precio                    0\n",
              "enganche                  0\n",
              "descuento                 0\n",
              "semana                    0\n",
              "monto_financiado          0\n",
              "costo_total               0\n",
              "monto_accesorios          0\n",
              "agente_venta              0\n",
              "dis_venta                 0\n",
              "status                    0\n",
              "fraude                    0\n",
              "empresa                   0\n",
              "inversion              4197\n",
              "pagos_realizados       3595\n",
              "reautorizacion         2473\n",
              "fecha_ultimo_pago      2473\n",
              "fecha_pago_proximo        0\n",
              "status_cuenta             0\n",
              "puntos                 4505\n",
              "riesgo                 4505\n",
              "porc_enganche           685\n",
              "porc_tasa             21876\n",
              "score_buro            21532\n",
              "razones_buro          20262\n",
              "semana_actual         22734\n",
              "codigo_postal         22735\n",
              "dtype: int64"
            ]
          },
          "metadata": {},
          "execution_count": 21
        }
      ]
    },
    {
      "cell_type": "code",
      "source": [
        "#Primer método de sustitución de valores nulos\n",
        "#Sustituir valores nulos con promedio o media\n",
        "data2[\"inversion\"]= data2[\"inversion\"].fillna(0)\n",
        "data2"
      ],
      "metadata": {
        "id": "VfN6AfnLYApm"
      },
      "execution_count": null,
      "outputs": []
    },
    {
      "cell_type": "code",
      "source": [
        "valores_nulos=data2.isnull().sum()\n",
        "valores_nulos"
      ],
      "metadata": {
        "colab": {
          "base_uri": "https://localhost:8080/"
        },
        "id": "aajcgxn6YfNr",
        "outputId": "bdaee032-e4e3-4b8f-dc1b-12af655c10ab"
      },
      "execution_count": 23,
      "outputs": [
        {
          "output_type": "execute_result",
          "data": {
            "text/plain": [
              "folio                     0\n",
              "tag                       0\n",
              "folio_solicitud           0\n",
              "fecha                     0\n",
              "marca                     0\n",
              "modelo                    0\n",
              "plazo                     0\n",
              "precio                    0\n",
              "enganche                  0\n",
              "descuento                 0\n",
              "semana                    0\n",
              "monto_financiado          0\n",
              "costo_total               0\n",
              "monto_accesorios          0\n",
              "agente_venta              0\n",
              "dis_venta                 0\n",
              "status                    0\n",
              "fraude                    0\n",
              "empresa                   0\n",
              "inversion                 0\n",
              "pagos_realizados       3595\n",
              "reautorizacion         2473\n",
              "fecha_ultimo_pago      2473\n",
              "fecha_pago_proximo        0\n",
              "status_cuenta             0\n",
              "puntos                 4505\n",
              "riesgo                 4505\n",
              "porc_enganche           685\n",
              "porc_tasa             21876\n",
              "score_buro            21532\n",
              "razones_buro          20262\n",
              "semana_actual         22734\n",
              "codigo_postal         22735\n",
              "dtype: int64"
            ]
          },
          "metadata": {},
          "execution_count": 23
        }
      ]
    },
    {
      "cell_type": "code",
      "source": [
        "#Primer método de sustitución de valores nulos\n",
        "#Sustituir valores nulos con promedio o media\n",
        "data2[\"pagos_realizados\"]=data2[\"pagos_realizados\"].fillna(round(df[\"pagos_realizados\"].mean(),1))"
      ],
      "metadata": {
        "id": "H3DCwraNYmBn"
      },
      "execution_count": 24,
      "outputs": []
    },
    {
      "cell_type": "code",
      "source": [
        "valores_nulos=data2.isnull().sum()\n",
        "valores_nulos"
      ],
      "metadata": {
        "colab": {
          "base_uri": "https://localhost:8080/"
        },
        "id": "JVQylBZqY9S4",
        "outputId": "0fbd8d4f-0d30-434a-a023-ee02a71c7313"
      },
      "execution_count": 25,
      "outputs": [
        {
          "output_type": "execute_result",
          "data": {
            "text/plain": [
              "folio                     0\n",
              "tag                       0\n",
              "folio_solicitud           0\n",
              "fecha                     0\n",
              "marca                     0\n",
              "modelo                    0\n",
              "plazo                     0\n",
              "precio                    0\n",
              "enganche                  0\n",
              "descuento                 0\n",
              "semana                    0\n",
              "monto_financiado          0\n",
              "costo_total               0\n",
              "monto_accesorios          0\n",
              "agente_venta              0\n",
              "dis_venta                 0\n",
              "status                    0\n",
              "fraude                    0\n",
              "empresa                   0\n",
              "inversion                 0\n",
              "pagos_realizados          0\n",
              "reautorizacion         2473\n",
              "fecha_ultimo_pago      2473\n",
              "fecha_pago_proximo        0\n",
              "status_cuenta             0\n",
              "puntos                 4505\n",
              "riesgo                 4505\n",
              "porc_enganche           685\n",
              "porc_tasa             21876\n",
              "score_buro            21532\n",
              "razones_buro          20262\n",
              "semana_actual         22734\n",
              "codigo_postal         22735\n",
              "dtype: int64"
            ]
          },
          "metadata": {},
          "execution_count": 25
        }
      ]
    },
    {
      "cell_type": "code",
      "source": [
        "#Primer método de sustitución de valores nulos\n",
        "#Sustituir valores nulos con promedio o media\n",
        "data2[\"reautorizacion\"]= data2[\"reautorizacion\"].fillna(0)\n",
        "data2"
      ],
      "metadata": {
        "id": "qT8dZLtkZByz"
      },
      "execution_count": null,
      "outputs": []
    },
    {
      "cell_type": "code",
      "source": [
        "valores_nulos=data2.isnull().sum()\n",
        "valores_nulos"
      ],
      "metadata": {
        "colab": {
          "base_uri": "https://localhost:8080/"
        },
        "id": "IAX0IvfXZMuC",
        "outputId": "0b18cd74-7989-4625-c6fa-5d2b1746c91c"
      },
      "execution_count": 27,
      "outputs": [
        {
          "output_type": "execute_result",
          "data": {
            "text/plain": [
              "folio                     0\n",
              "tag                       0\n",
              "folio_solicitud           0\n",
              "fecha                     0\n",
              "marca                     0\n",
              "modelo                    0\n",
              "plazo                     0\n",
              "precio                    0\n",
              "enganche                  0\n",
              "descuento                 0\n",
              "semana                    0\n",
              "monto_financiado          0\n",
              "costo_total               0\n",
              "monto_accesorios          0\n",
              "agente_venta              0\n",
              "dis_venta                 0\n",
              "status                    0\n",
              "fraude                    0\n",
              "empresa                   0\n",
              "inversion                 0\n",
              "pagos_realizados          0\n",
              "reautorizacion            0\n",
              "fecha_ultimo_pago      2473\n",
              "fecha_pago_proximo        0\n",
              "status_cuenta             0\n",
              "puntos                 4505\n",
              "riesgo                 4505\n",
              "porc_enganche           685\n",
              "porc_tasa             21876\n",
              "score_buro            21532\n",
              "razones_buro          20262\n",
              "semana_actual         22734\n",
              "codigo_postal         22735\n",
              "dtype: int64"
            ]
          },
          "metadata": {},
          "execution_count": 27
        }
      ]
    },
    {
      "cell_type": "code",
      "source": [
        "#Primer método de sustitución de valores nulos\n",
        "#Sustituir valores nulos con promedio o media\n",
        "data2[\"puntos\"]= data2[\"puntos\"].fillna(0)\n",
        "data2"
      ],
      "metadata": {
        "id": "UbiawrAmeuVy"
      },
      "execution_count": null,
      "outputs": []
    },
    {
      "cell_type": "code",
      "source": [
        "valores_nulos=data2.isnull().sum()\n",
        "valores_nulos"
      ],
      "metadata": {
        "id": "XGMgx8s5ey5z"
      },
      "execution_count": null,
      "outputs": []
    },
    {
      "cell_type": "code",
      "source": [
        "#Primer método de sustitución de valores nulos\n",
        "#Sustituir valores nulos con promedio o media\n",
        "data2[\"riesgo\"]= data2[\"riesgo\"].fillna(0)\n",
        "data2"
      ],
      "metadata": {
        "id": "QBXtICHue4Zv"
      },
      "execution_count": null,
      "outputs": []
    },
    {
      "cell_type": "code",
      "source": [
        "valores_nulos=data2.isnull().sum()\n",
        "valores_nulos"
      ],
      "metadata": {
        "colab": {
          "base_uri": "https://localhost:8080/"
        },
        "id": "nVswgdsse8IK",
        "outputId": "73637afa-2bf8-425a-e7c5-36194a77a178"
      },
      "execution_count": 36,
      "outputs": [
        {
          "output_type": "execute_result",
          "data": {
            "text/plain": [
              "folio                     0\n",
              "tag                       0\n",
              "folio_solicitud           0\n",
              "fecha                     0\n",
              "marca                     0\n",
              "modelo                    0\n",
              "plazo                     0\n",
              "precio                    0\n",
              "enganche                  0\n",
              "descuento                 0\n",
              "semana                    0\n",
              "monto_financiado          0\n",
              "costo_total               0\n",
              "monto_accesorios          0\n",
              "agente_venta              0\n",
              "dis_venta                 0\n",
              "status                    0\n",
              "fraude                    0\n",
              "empresa                   0\n",
              "inversion                 0\n",
              "pagos_realizados          0\n",
              "reautorizacion            0\n",
              "fecha_ultimo_pago      2473\n",
              "fecha_pago_proximo        0\n",
              "status_cuenta             0\n",
              "puntos                    0\n",
              "riesgo                    0\n",
              "porc_enganche           685\n",
              "porc_tasa             21876\n",
              "score_buro            21532\n",
              "razones_buro          20262\n",
              "semana_actual         22734\n",
              "codigo_postal         22735\n",
              "dtype: int64"
            ]
          },
          "metadata": {},
          "execution_count": 36
        }
      ]
    },
    {
      "cell_type": "code",
      "source": [
        "#Primer método de sustitución de valores nulos\n",
        "#Sustituir valores nulos con promedio o media\n",
        "data2[\"porc_enganche\"]= data2[\"porc_enganche\"].fillna(0)\n",
        "data2"
      ],
      "metadata": {
        "id": "c004QaE9fBsK"
      },
      "execution_count": null,
      "outputs": []
    },
    {
      "cell_type": "code",
      "source": [
        "#Primer método de sustitución de valores nulos\n",
        "#Sustituir valores nulos con promedio o media\n",
        "data2[\"porc_tasa\"]= data2[\"porc_tasa\"].fillna(0)\n",
        "data2"
      ],
      "metadata": {
        "id": "_4FqtASofFl8"
      },
      "execution_count": null,
      "outputs": []
    },
    {
      "cell_type": "code",
      "source": [
        "#Primer método de sustitución de valores nulos\n",
        "#Sustituir valores nulos con promedio o media\n",
        "data2[\"score_buro\"]= data2[\"score_buro\"].fillna(0)\n",
        "data2"
      ],
      "metadata": {
        "id": "ROTBd3EifNoH"
      },
      "execution_count": null,
      "outputs": []
    },
    {
      "cell_type": "code",
      "source": [
        "#Primer método de sustitución de valores nulos\n",
        "#Sustituir valores nulos con promedio o media\n",
        "data2[\"razones_buro\"]= data2[\"razones_buro\"].fillna(0)\n",
        "data2"
      ],
      "metadata": {
        "id": "5-B2xRJ0fQ_p"
      },
      "execution_count": null,
      "outputs": []
    },
    {
      "cell_type": "code",
      "source": [
        "#Primer método de sustitución de valores nulos\n",
        "#Sustituir valores nulos con promedio o media\n",
        "data2[\"semana_actual\"]= data2[\"semana_actual\"].fillna(0)\n",
        "data2"
      ],
      "metadata": {
        "id": "kzgqVCPxf4yN"
      },
      "execution_count": null,
      "outputs": []
    },
    {
      "cell_type": "code",
      "source": [
        "#Primer método de sustitución de valores nulos\n",
        "#Sustituir valores nulos con promedio o media\n",
        "data2[\"codigo_postal\"]= data2[\"codigo_postal\"].fillna(0)\n",
        "data2"
      ],
      "metadata": {
        "id": "MU3iVQt-gCKg"
      },
      "execution_count": null,
      "outputs": []
    },
    {
      "cell_type": "code",
      "source": [
        "valores_nulos=data2.isnull().sum()\n",
        "valores_nulos"
      ],
      "metadata": {
        "colab": {
          "base_uri": "https://localhost:8080/"
        },
        "id": "ML3TV6D4gHzu",
        "outputId": "fc96f2c8-c9bb-4080-91e8-d165acc7cf6c"
      },
      "execution_count": 43,
      "outputs": [
        {
          "output_type": "execute_result",
          "data": {
            "text/plain": [
              "folio                    0\n",
              "tag                      0\n",
              "folio_solicitud          0\n",
              "fecha                    0\n",
              "marca                    0\n",
              "modelo                   0\n",
              "plazo                    0\n",
              "precio                   0\n",
              "enganche                 0\n",
              "descuento                0\n",
              "semana                   0\n",
              "monto_financiado         0\n",
              "costo_total              0\n",
              "monto_accesorios         0\n",
              "agente_venta             0\n",
              "dis_venta                0\n",
              "status                   0\n",
              "fraude                   0\n",
              "empresa                  0\n",
              "inversion                0\n",
              "pagos_realizados         0\n",
              "reautorizacion           0\n",
              "fecha_ultimo_pago     2473\n",
              "fecha_pago_proximo       0\n",
              "status_cuenta            0\n",
              "puntos                   0\n",
              "riesgo                   0\n",
              "porc_enganche            0\n",
              "porc_tasa                0\n",
              "score_buro               0\n",
              "razones_buro             0\n",
              "semana_actual            0\n",
              "codigo_postal            0\n",
              "dtype: int64"
            ]
          },
          "metadata": {},
          "execution_count": 43
        }
      ]
    }
  ]
}