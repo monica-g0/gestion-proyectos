{
 "cells": [
  {
   "cell_type": "code",
   "execution_count": 73,
   "metadata": {},
   "outputs": [],
   "source": [
    "import matplotlib.pyplot as plt\n",
    "import pandas as pd\n",
    "import numpy as np\n",
    "import scipy.special as special\n",
    "from scipy.optimize import curve_fit\n",
    "import seaborn as sns\n",
    "from sklearn.metrics import r2_score\n",
    "from sklearn.model_selection import train_test_split\n",
    "from sklearn.preprocessing import StandardScaler\n",
    "from sklearn.metrics import accuracy_score, classification_report, confusion_matrix, roc_curve, roc_auc_score\n"
   ]
  },
  {
   "cell_type": "code",
   "execution_count": 74,
   "metadata": {},
   "outputs": [
    {
     "name": "stdout",
     "output_type": "stream",
     "text": [
      "<class 'pandas.core.frame.DataFrame'>\n",
      "RangeIndex: 22735 entries, 0 to 22734\n",
      "Data columns (total 39 columns):\n",
      " #   Column              Non-Null Count  Dtype         \n",
      "---  ------              --------------  -----         \n",
      " 0   folio               22735 non-null  int64         \n",
      " 1   tag                 22735 non-null  object        \n",
      " 2   folio_solicitud     22735 non-null  int64         \n",
      " 3   fecha               22735 non-null  datetime64[ns]\n",
      " 4   marca               22735 non-null  object        \n",
      " 5   modelo              22735 non-null  object        \n",
      " 6   plazo               22735 non-null  object        \n",
      " 7   precio              22735 non-null  float64       \n",
      " 8   enganche            22735 non-null  float64       \n",
      " 9   descuento           22735 non-null  float64       \n",
      " 10  semana              22735 non-null  int64         \n",
      " 11  monto_financiado    22735 non-null  float64       \n",
      " 12  costo_total         22735 non-null  int64         \n",
      " 13  monto_accesorios    22735 non-null  float64       \n",
      " 14  agente_venta        22735 non-null  object        \n",
      " 15  dis_venta           22735 non-null  object        \n",
      " 16  status              22735 non-null  int64         \n",
      " 17  fraude              22735 non-null  int64         \n",
      " 18  empresa             22722 non-null  object        \n",
      " 19  inversion           22735 non-null  int64         \n",
      " 20  pagos_realizados    22735 non-null  int64         \n",
      " 21  reautorizacion      22735 non-null  int64         \n",
      " 22  fecha_ultimo_pago   19379 non-null  datetime64[ns]\n",
      " 23  fecha_pago_proximo  19379 non-null  datetime64[ns]\n",
      " 24  status_cuenta       19421 non-null  object        \n",
      " 25  puntos              22735 non-null  int64         \n",
      " 26  riesgo              22735 non-null  float64       \n",
      " 27  score_buro          22735 non-null  int64         \n",
      " 28  razones_buro        15395 non-null  object        \n",
      " 29  porc_eng            22735 non-null  float64       \n",
      " 30  limite_credito      22735 non-null  int64         \n",
      " 31  semana_actual       22735 non-null  int64         \n",
      " 32  cp_cliente          15492 non-null  object        \n",
      " 33  edad_cliente        9627 non-null   float64       \n",
      " 34  cd_cliente          22735 non-null  object        \n",
      " 35  edo_cliente         22735 non-null  object        \n",
      " 36  cd_venta            22735 non-null  object        \n",
      " 37  edo_venta           22735 non-null  object        \n",
      " 38  curp                22735 non-null  object        \n",
      "dtypes: datetime64[ns](3), float64(8), int64(13), object(15)\n",
      "memory usage: 6.8+ MB\n"
     ]
    }
   ],
   "source": [
    "df =pd.read_excel(\"df_limpio.xlsx\")\n",
    "df.info()"
   ]
  },
  {
   "cell_type": "markdown",
   "metadata": {},
   "source": [
    "**PRECIO**"
   ]
  },
  {
   "cell_type": "markdown",
   "metadata": {},
   "source": [
    "Vamos a analizar la variable \"precio\" debido a que esta será nuestra varaible dependiente que pasará a convertirse en variable diatónica.\n",
    "Gama baja - Gama media"
   ]
  },
  {
   "cell_type": "code",
   "execution_count": 75,
   "metadata": {},
   "outputs": [
    {
     "name": "stdout",
     "output_type": "stream",
     "text": [
      "count    22735.000000\n",
      "mean      3997.036591\n",
      "std       1361.507164\n",
      "min        973.240000\n",
      "25%       3049.000000\n",
      "50%       3549.000000\n",
      "75%       4899.000000\n",
      "max      14900.000000\n",
      "Name: precio, dtype: float64\n"
     ]
    }
   ],
   "source": [
    "precioStats = df[\"precio\"].describe()\n",
    "print(precioStats)"
   ]
  },
  {
   "cell_type": "code",
   "execution_count": 76,
   "metadata": {},
   "outputs": [],
   "source": [
    "# Elegimos las variables de interés para poner a prueba el modelo\n",
    "precio = df.iloc[ : , [8,9,11,12,13,25,26,27,29,30,7]]"
   ]
  },
  {
   "cell_type": "code",
   "execution_count": 77,
   "metadata": {},
   "outputs": [
    {
     "name": "stdout",
     "output_type": "stream",
     "text": [
      "       enganche  descuento  monto_financiado  costo_total  monto_accesorios  \\\n",
      "0         780.0        0.0            1169.0         2106               0.0   \n",
      "1        1050.0        0.0            1949.0         2925               0.0   \n",
      "2         490.0        0.0            1469.0         2210               0.0   \n",
      "3         490.0        0.0            1469.0         2210               0.0   \n",
      "4        1075.0        0.0            3224.0         6942               0.0   \n",
      "...         ...        ...               ...          ...               ...   \n",
      "22730     297.0        0.0            3052.0         5486               0.0   \n",
      "22731    1209.0        0.0            2891.0         5200               0.0   \n",
      "22732    1152.0        0.0            3697.0         6656               0.0   \n",
      "22733    2799.0        0.0            7000.0        15054               0.0   \n",
      "22734    1086.0        0.0            4313.0         7774               0.0   \n",
      "\n",
      "       puntos  riesgo  score_buro  porc_eng  limite_credito  precio  \\\n",
      "0           0    0.00           0     40.02            5000  1949.0   \n",
      "1           0    0.00           0     35.01            6000  2999.0   \n",
      "2           0    0.00           0     25.01               0  1959.0   \n",
      "3           0    0.00           0     25.01            7000  1959.0   \n",
      "4           0    0.00           0     25.01            7000  4299.0   \n",
      "...       ...     ...         ...       ...             ...     ...   \n",
      "22730      10   27.40         469      8.87           10000  3349.0   \n",
      "22731       9   19.00         502     29.49            5000  4100.0   \n",
      "22732      11   26.65         459     23.76            4750  4849.0   \n",
      "22733      14  -17.35         699     28.56            7000  9799.0   \n",
      "22734      12   21.80           0     20.11            4750  5399.0   \n",
      "\n",
      "       PrecioGama  \n",
      "0       Gama baja  \n",
      "1       Gama baja  \n",
      "2       Gama baja  \n",
      "3       Gama baja  \n",
      "4      Gama media  \n",
      "...           ...  \n",
      "22730   Gama baja  \n",
      "22731  Gama media  \n",
      "22732  Gama media  \n",
      "22733  Gama media  \n",
      "22734  Gama media  \n",
      "\n",
      "[22735 rows x 12 columns]\n"
     ]
    },
    {
     "name": "stderr",
     "output_type": "stream",
     "text": [
      "C:\\Users\\Carlos Casillas\\AppData\\Local\\Temp\\ipykernel_8392\\2920784270.py:12: SettingWithCopyWarning: \n",
      "A value is trying to be set on a copy of a slice from a DataFrame.\n",
      "Try using .loc[row_indexer,col_indexer] = value instead\n",
      "\n",
      "See the caveats in the documentation: https://pandas.pydata.org/pandas-docs/stable/user_guide/indexing.html#returning-a-view-versus-a-copy\n",
      "  precio['PrecioGama'] = precio[\"precio\"].apply(categorizar_valor)\n"
     ]
    }
   ],
   "source": [
    "\n",
    "# Calcular la media de la columna\n",
    "meanPrecio = precio[\"precio\"].mean()\n",
    "\n",
    "# Definir una función que asignará la categoría\n",
    "def categorizar_valor(valor):\n",
    "    if valor > meanPrecio:\n",
    "        return 'Gama media'\n",
    "    else:\n",
    "        return 'Gama baja'\n",
    "\n",
    "# Aplicar la función a la columna y crear una nueva columna con las categorías\n",
    "precio['PrecioGama'] = precio[\"precio\"].apply(categorizar_valor)\n",
    "\n",
    "# Mostrar el DataFrame resultante\n",
    "print(precio)\n"
   ]
  },
  {
   "cell_type": "code",
   "execution_count": 78,
   "metadata": {},
   "outputs": [
    {
     "data": {
      "text/plain": [
       "enganche            0\n",
       "descuento           0\n",
       "monto_financiado    0\n",
       "costo_total         0\n",
       "monto_accesorios    0\n",
       "puntos              0\n",
       "riesgo              0\n",
       "score_buro          0\n",
       "porc_eng            0\n",
       "limite_credito      0\n",
       "precio              0\n",
       "PrecioGama          0\n",
       "dtype: int64"
      ]
     },
     "execution_count": 78,
     "metadata": {},
     "output_type": "execute_result"
    }
   ],
   "source": [
    "#Verificamos que los campos no contengan valores nulos\n",
    "precio.isnull().sum()"
   ]
  },
  {
   "cell_type": "code",
   "execution_count": 79,
   "metadata": {},
   "outputs": [],
   "source": [
    "#Declaramos variables dependientes e independientes\n",
    "precio_indep = precio[[\"limite_credito\",\"score_buro\",\"puntos\",\"enganche\"]]\n",
    "precio_dep = precio[[\"PrecioGama\"]]"
   ]
  },
  {
   "cell_type": "code",
   "execution_count": 80,
   "metadata": {},
   "outputs": [],
   "source": [
    "X1 = precio_indep\n",
    "y1=precio_dep"
   ]
  },
  {
   "cell_type": "code",
   "execution_count": 81,
   "metadata": {},
   "outputs": [],
   "source": [
    "#División del conjunto de datos\n",
    "X1_train, X1_test, y1_train,y1_test =train_test_split(X1,y1,test_size =0.2, random_state= None)"
   ]
  },
  {
   "cell_type": "code",
   "execution_count": 82,
   "metadata": {},
   "outputs": [],
   "source": [
    "escalarPrecio =StandardScaler()"
   ]
  },
  {
   "cell_type": "code",
   "execution_count": 83,
   "metadata": {},
   "outputs": [],
   "source": [
    "X1_train =escalarPrecio.fit_transform(X1_train)\n",
    "X1_test =escalarPrecio.transform(X1_test)    #por que uno es fit y el otro no"
   ]
  },
  {
   "cell_type": "code",
   "execution_count": 84,
   "metadata": {},
   "outputs": [],
   "source": [
    "#Definimos el algoritmo\n",
    "from sklearn.linear_model import LogisticRegression\n",
    "algoritmo = LogisticRegression()"
   ]
  },
  {
   "cell_type": "code",
   "execution_count": 85,
   "metadata": {},
   "outputs": [
    {
     "name": "stderr",
     "output_type": "stream",
     "text": [
      "c:\\Users\\Carlos Casillas\\AppData\\Local\\Programs\\Python\\Python311\\Lib\\site-packages\\sklearn\\utils\\validation.py:1184: DataConversionWarning: A column-vector y was passed when a 1d array was expected. Please change the shape of y to (n_samples, ), for example using ravel().\n",
      "  y = column_or_1d(y, warn=True)\n"
     ]
    },
    {
     "data": {
      "text/html": [
       "<style>#sk-container-id-5 {color: black;}#sk-container-id-5 pre{padding: 0;}#sk-container-id-5 div.sk-toggleable {background-color: white;}#sk-container-id-5 label.sk-toggleable__label {cursor: pointer;display: block;width: 100%;margin-bottom: 0;padding: 0.3em;box-sizing: border-box;text-align: center;}#sk-container-id-5 label.sk-toggleable__label-arrow:before {content: \"▸\";float: left;margin-right: 0.25em;color: #696969;}#sk-container-id-5 label.sk-toggleable__label-arrow:hover:before {color: black;}#sk-container-id-5 div.sk-estimator:hover label.sk-toggleable__label-arrow:before {color: black;}#sk-container-id-5 div.sk-toggleable__content {max-height: 0;max-width: 0;overflow: hidden;text-align: left;background-color: #f0f8ff;}#sk-container-id-5 div.sk-toggleable__content pre {margin: 0.2em;color: black;border-radius: 0.25em;background-color: #f0f8ff;}#sk-container-id-5 input.sk-toggleable__control:checked~div.sk-toggleable__content {max-height: 200px;max-width: 100%;overflow: auto;}#sk-container-id-5 input.sk-toggleable__control:checked~label.sk-toggleable__label-arrow:before {content: \"▾\";}#sk-container-id-5 div.sk-estimator input.sk-toggleable__control:checked~label.sk-toggleable__label {background-color: #d4ebff;}#sk-container-id-5 div.sk-label input.sk-toggleable__control:checked~label.sk-toggleable__label {background-color: #d4ebff;}#sk-container-id-5 input.sk-hidden--visually {border: 0;clip: rect(1px 1px 1px 1px);clip: rect(1px, 1px, 1px, 1px);height: 1px;margin: -1px;overflow: hidden;padding: 0;position: absolute;width: 1px;}#sk-container-id-5 div.sk-estimator {font-family: monospace;background-color: #f0f8ff;border: 1px dotted black;border-radius: 0.25em;box-sizing: border-box;margin-bottom: 0.5em;}#sk-container-id-5 div.sk-estimator:hover {background-color: #d4ebff;}#sk-container-id-5 div.sk-parallel-item::after {content: \"\";width: 100%;border-bottom: 1px solid gray;flex-grow: 1;}#sk-container-id-5 div.sk-label:hover label.sk-toggleable__label {background-color: #d4ebff;}#sk-container-id-5 div.sk-serial::before {content: \"\";position: absolute;border-left: 1px solid gray;box-sizing: border-box;top: 0;bottom: 0;left: 50%;z-index: 0;}#sk-container-id-5 div.sk-serial {display: flex;flex-direction: column;align-items: center;background-color: white;padding-right: 0.2em;padding-left: 0.2em;position: relative;}#sk-container-id-5 div.sk-item {position: relative;z-index: 1;}#sk-container-id-5 div.sk-parallel {display: flex;align-items: stretch;justify-content: center;background-color: white;position: relative;}#sk-container-id-5 div.sk-item::before, #sk-container-id-5 div.sk-parallel-item::before {content: \"\";position: absolute;border-left: 1px solid gray;box-sizing: border-box;top: 0;bottom: 0;left: 50%;z-index: -1;}#sk-container-id-5 div.sk-parallel-item {display: flex;flex-direction: column;z-index: 1;position: relative;background-color: white;}#sk-container-id-5 div.sk-parallel-item:first-child::after {align-self: flex-end;width: 50%;}#sk-container-id-5 div.sk-parallel-item:last-child::after {align-self: flex-start;width: 50%;}#sk-container-id-5 div.sk-parallel-item:only-child::after {width: 0;}#sk-container-id-5 div.sk-dashed-wrapped {border: 1px dashed gray;margin: 0 0.4em 0.5em 0.4em;box-sizing: border-box;padding-bottom: 0.4em;background-color: white;}#sk-container-id-5 div.sk-label label {font-family: monospace;font-weight: bold;display: inline-block;line-height: 1.2em;}#sk-container-id-5 div.sk-label-container {text-align: center;}#sk-container-id-5 div.sk-container {/* jupyter's `normalize.less` sets `[hidden] { display: none; }` but bootstrap.min.css set `[hidden] { display: none !important; }` so we also need the `!important` here to be able to override the default hidden behavior on the sphinx rendered scikit-learn.org. See: https://github.com/scikit-learn/scikit-learn/issues/21755 */display: inline-block !important;position: relative;}#sk-container-id-5 div.sk-text-repr-fallback {display: none;}</style><div id=\"sk-container-id-5\" class=\"sk-top-container\"><div class=\"sk-text-repr-fallback\"><pre>LogisticRegression()</pre><b>In a Jupyter environment, please rerun this cell to show the HTML representation or trust the notebook. <br />On GitHub, the HTML representation is unable to render, please try loading this page with nbviewer.org.</b></div><div class=\"sk-container\" hidden><div class=\"sk-item\"><div class=\"sk-estimator sk-toggleable\"><input class=\"sk-toggleable__control sk-hidden--visually\" id=\"sk-estimator-id-5\" type=\"checkbox\" checked><label for=\"sk-estimator-id-5\" class=\"sk-toggleable__label sk-toggleable__label-arrow\">LogisticRegression</label><div class=\"sk-toggleable__content\"><pre>LogisticRegression()</pre></div></div></div></div></div>"
      ],
      "text/plain": [
       "LogisticRegression()"
      ]
     },
     "execution_count": 85,
     "metadata": {},
     "output_type": "execute_result"
    }
   ],
   "source": [
    "algoritmo.fit(X1_train,y1_train)"
   ]
  },
  {
   "cell_type": "code",
   "execution_count": 86,
   "metadata": {},
   "outputs": [
    {
     "data": {
      "text/plain": [
       "array(['Gama baja', 'Gama baja', 'Gama media', ..., 'Gama media',\n",
       "       'Gama media', 'Gama media'], dtype=object)"
      ]
     },
     "execution_count": 86,
     "metadata": {},
     "output_type": "execute_result"
    }
   ],
   "source": [
    "#Se realiza la predicción\n",
    "y1_pred =algoritmo.predict(X1_test)\n",
    "y1_pred"
   ]
  },
  {
   "cell_type": "code",
   "execution_count": 87,
   "metadata": {},
   "outputs": [
    {
     "name": "stdout",
     "output_type": "stream",
     "text": [
      "[[2454  202]\n",
      " [ 406 1485]]\n"
     ]
    }
   ],
   "source": [
    "from sklearn.metrics import confusion_matrix\n",
    "matriz1 = confusion_matrix(y1_test,y1_pred)\n",
    "print(matriz1)"
   ]
  },
  {
   "cell_type": "code",
   "execution_count": 88,
   "metadata": {},
   "outputs": [
    {
     "name": "stdout",
     "output_type": "stream",
     "text": [
      "Precisión del modelo: \n",
      "0.858041958041958\n"
     ]
    }
   ],
   "source": [
    "from sklearn.metrics import precision_score\n",
    "\n",
    "presicion1 =precision_score(y1_test, y1_pred, average = \"binary\", pos_label = \"Gama baja\")\n",
    "print (\"Precisión del modelo: \")\n",
    "print(presicion1)"
   ]
  },
  {
   "cell_type": "code",
   "execution_count": 89,
   "metadata": {},
   "outputs": [
    {
     "name": "stdout",
     "output_type": "stream",
     "text": [
      "Exactitud del modelo: \n",
      "0.8662854629425996\n"
     ]
    }
   ],
   "source": [
    "# Calculo la exactitud del modelo\n",
    "\n",
    "from sklearn.metrics import accuracy_score\n",
    "\n",
    "exactitud1 = accuracy_score(y1_test, y1_pred)\n",
    "print('Exactitud del modelo: ')\n",
    "print(exactitud1)"
   ]
  },
  {
   "cell_type": "code",
   "execution_count": 90,
   "metadata": {},
   "outputs": [
    {
     "name": "stdout",
     "output_type": "stream",
     "text": [
      "Sensibilidad del modelo: \n",
      "0.9239457831325302\n"
     ]
    }
   ],
   "source": [
    "# Calculo la sensibilidad del modelo\n",
    "\n",
    "from sklearn.metrics import recall_score\n",
    "\n",
    "sensibilidad1 = recall_score(y1_test, y1_pred, average = \"binary\", pos_label = 'Gama baja')\n",
    "print('Sensibilidad del modelo: ')\n",
    "print(sensibilidad1)"
   ]
  },
  {
   "cell_type": "code",
   "execution_count": 91,
   "metadata": {},
   "outputs": [
    {
     "name": "stdout",
     "output_type": "stream",
     "text": [
      "Puntaje F1 del modelo: \n",
      "0.8897751994198695\n"
     ]
    }
   ],
   "source": [
    "# El puntaje F1 es una combinación entre la precisión y la sensibilidad, para esto importamos\n",
    "# Calculo el puntaje F1 del modelo\n",
    "\n",
    "from sklearn.metrics import f1_score\n",
    "\n",
    "puntajef1_precio = f1_score(y1_test, y1_pred, average = \"binary\", pos_label = \"Gama baja\")\n",
    "print('Puntaje F1 del modelo: ')\n",
    "print(puntajef1_precio)"
   ]
  },
  {
   "cell_type": "code",
   "execution_count": 92,
   "metadata": {},
   "outputs": [
    {
     "name": "stdout",
     "output_type": "stream",
     "text": [
      "Classification Report:\n",
      "              precision    recall  f1-score   support\n",
      "\n",
      "   Gama baja       0.86      0.92      0.89      2656\n",
      "  Gama media       0.88      0.79      0.83      1891\n",
      "\n",
      "    accuracy                           0.87      4547\n",
      "   macro avg       0.87      0.85      0.86      4547\n",
      "weighted avg       0.87      0.87      0.86      4547\n",
      "\n"
     ]
    }
   ],
   "source": [
    "class_report = classification_report(y1_test, y1_pred)\n",
    "print('Classification Report:')\n",
    "print(class_report)"
   ]
  },
  {
   "cell_type": "markdown",
   "metadata": {},
   "source": [
    "**PUNTOS**"
   ]
  },
  {
   "cell_type": "markdown",
   "metadata": {},
   "source": [
    "Dibidmos nuestra base de datos y utilizamos la mediana como discriminante ,este se verá categorizado por \"Alto\" y \"bajo\""
   ]
  },
  {
   "cell_type": "code",
   "execution_count": 93,
   "metadata": {},
   "outputs": [
    {
     "name": "stdout",
     "output_type": "stream",
     "text": [
      "count    22735.000000\n",
      "mean        14.156807\n",
      "std         11.399142\n",
      "min        -15.000000\n",
      "25%         10.000000\n",
      "50%         12.000000\n",
      "75%         14.000000\n",
      "max         50.000000\n",
      "Name: puntos, dtype: float64\n"
     ]
    }
   ],
   "source": [
    "puntosStats = df[\"puntos\"].describe()\n",
    "print(puntosStats)"
   ]
  },
  {
   "cell_type": "code",
   "execution_count": 94,
   "metadata": {},
   "outputs": [],
   "source": [
    "puntos = df.iloc[ : , [30,25]]"
   ]
  },
  {
   "cell_type": "markdown",
   "metadata": {},
   "source": [
    "Dado que la naturaleza de esta variable no permite números negativos procederemos a eliminarlos."
   ]
  },
  {
   "cell_type": "code",
   "execution_count": 95,
   "metadata": {},
   "outputs": [
    {
     "name": "stdout",
     "output_type": "stream",
     "text": [
      "<class 'pandas.core.frame.DataFrame'>\n",
      "Index: 19475 entries, 928 to 22734\n",
      "Data columns (total 2 columns):\n",
      " #   Column          Non-Null Count  Dtype\n",
      "---  ------          --------------  -----\n",
      " 0   limite_credito  19475 non-null  int64\n",
      " 1   puntos          19475 non-null  int64\n",
      "dtypes: int64(2)\n",
      "memory usage: 456.4 KB\n"
     ]
    }
   ],
   "source": [
    "puntos = puntos[(puntos[\"puntos\"]>0)]\n",
    "puntos.info()"
   ]
  },
  {
   "cell_type": "code",
   "execution_count": 96,
   "metadata": {},
   "outputs": [
    {
     "name": "stdout",
     "output_type": "stream",
     "text": [
      "       limite_credito  puntos CatPuntos\n",
      "928                 0      11      Bajo\n",
      "1558             9000      31      Alto\n",
      "1744                0      28      Alto\n",
      "3186             9000      32      Alto\n",
      "3187             9000      29      Alto\n",
      "...               ...     ...       ...\n",
      "22730           10000      10      Bajo\n",
      "22731            5000       9      Bajo\n",
      "22732            4750      11      Bajo\n",
      "22733            7000      14      Alto\n",
      "22734            4750      12      Bajo\n",
      "\n",
      "[19475 rows x 3 columns]\n"
     ]
    }
   ],
   "source": [
    "# Calcular la media de la columna\n",
    "medianPuntos = puntos[\"puntos\"].median()\n",
    "\n",
    "# Definir una función que asignará la categoría\n",
    "def categorizar_valor(valor):\n",
    "    if valor > medianPuntos:\n",
    "        return 'Alto'\n",
    "    else:\n",
    "        return 'Bajo'\n",
    "\n",
    "# Aplicar la función a la columna y crear una nueva columna con las categorías\n",
    "puntos['CatPuntos'] = puntos[\"puntos\"].apply(categorizar_valor)\n",
    "\n",
    "# Mostrar el DataFrame resultante\n",
    "print(puntos)"
   ]
  },
  {
   "cell_type": "code",
   "execution_count": 97,
   "metadata": {},
   "outputs": [
    {
     "data": {
      "text/plain": [
       "limite_credito    0\n",
       "puntos            0\n",
       "CatPuntos         0\n",
       "dtype: int64"
      ]
     },
     "execution_count": 97,
     "metadata": {},
     "output_type": "execute_result"
    }
   ],
   "source": [
    "#Verificamos nulos\n",
    "puntos.isnull().sum()"
   ]
  },
  {
   "cell_type": "code",
   "execution_count": 98,
   "metadata": {},
   "outputs": [],
   "source": [
    "puntos_indep = puntos[[\"limite_credito\"]]\n",
    "puntos_dep = puntos [[\"CatPuntos\"]]"
   ]
  },
  {
   "cell_type": "code",
   "execution_count": 99,
   "metadata": {},
   "outputs": [],
   "source": [
    "X2 =puntos_indep\n",
    "y2 = puntos_dep"
   ]
  },
  {
   "cell_type": "code",
   "execution_count": 100,
   "metadata": {},
   "outputs": [],
   "source": [
    "X2_train, X2_test,y2_train,y2_test = train_test_split(X2,y2,test_size = 0.2,random_state = None)"
   ]
  },
  {
   "cell_type": "code",
   "execution_count": 101,
   "metadata": {},
   "outputs": [],
   "source": [
    "escalarPuntos = StandardScaler()"
   ]
  },
  {
   "cell_type": "code",
   "execution_count": 102,
   "metadata": {},
   "outputs": [],
   "source": [
    "X2_train = escalarPrecio.fit_transform(X2_train)\n",
    "X2_test = escalarPrecio.transform(X2_test)"
   ]
  },
  {
   "cell_type": "code",
   "execution_count": 103,
   "metadata": {},
   "outputs": [
    {
     "name": "stderr",
     "output_type": "stream",
     "text": [
      "c:\\Users\\Carlos Casillas\\AppData\\Local\\Programs\\Python\\Python311\\Lib\\site-packages\\sklearn\\utils\\validation.py:1184: DataConversionWarning: A column-vector y was passed when a 1d array was expected. Please change the shape of y to (n_samples, ), for example using ravel().\n",
      "  y = column_or_1d(y, warn=True)\n"
     ]
    },
    {
     "data": {
      "text/html": [
       "<style>#sk-container-id-6 {color: black;}#sk-container-id-6 pre{padding: 0;}#sk-container-id-6 div.sk-toggleable {background-color: white;}#sk-container-id-6 label.sk-toggleable__label {cursor: pointer;display: block;width: 100%;margin-bottom: 0;padding: 0.3em;box-sizing: border-box;text-align: center;}#sk-container-id-6 label.sk-toggleable__label-arrow:before {content: \"▸\";float: left;margin-right: 0.25em;color: #696969;}#sk-container-id-6 label.sk-toggleable__label-arrow:hover:before {color: black;}#sk-container-id-6 div.sk-estimator:hover label.sk-toggleable__label-arrow:before {color: black;}#sk-container-id-6 div.sk-toggleable__content {max-height: 0;max-width: 0;overflow: hidden;text-align: left;background-color: #f0f8ff;}#sk-container-id-6 div.sk-toggleable__content pre {margin: 0.2em;color: black;border-radius: 0.25em;background-color: #f0f8ff;}#sk-container-id-6 input.sk-toggleable__control:checked~div.sk-toggleable__content {max-height: 200px;max-width: 100%;overflow: auto;}#sk-container-id-6 input.sk-toggleable__control:checked~label.sk-toggleable__label-arrow:before {content: \"▾\";}#sk-container-id-6 div.sk-estimator input.sk-toggleable__control:checked~label.sk-toggleable__label {background-color: #d4ebff;}#sk-container-id-6 div.sk-label input.sk-toggleable__control:checked~label.sk-toggleable__label {background-color: #d4ebff;}#sk-container-id-6 input.sk-hidden--visually {border: 0;clip: rect(1px 1px 1px 1px);clip: rect(1px, 1px, 1px, 1px);height: 1px;margin: -1px;overflow: hidden;padding: 0;position: absolute;width: 1px;}#sk-container-id-6 div.sk-estimator {font-family: monospace;background-color: #f0f8ff;border: 1px dotted black;border-radius: 0.25em;box-sizing: border-box;margin-bottom: 0.5em;}#sk-container-id-6 div.sk-estimator:hover {background-color: #d4ebff;}#sk-container-id-6 div.sk-parallel-item::after {content: \"\";width: 100%;border-bottom: 1px solid gray;flex-grow: 1;}#sk-container-id-6 div.sk-label:hover label.sk-toggleable__label {background-color: #d4ebff;}#sk-container-id-6 div.sk-serial::before {content: \"\";position: absolute;border-left: 1px solid gray;box-sizing: border-box;top: 0;bottom: 0;left: 50%;z-index: 0;}#sk-container-id-6 div.sk-serial {display: flex;flex-direction: column;align-items: center;background-color: white;padding-right: 0.2em;padding-left: 0.2em;position: relative;}#sk-container-id-6 div.sk-item {position: relative;z-index: 1;}#sk-container-id-6 div.sk-parallel {display: flex;align-items: stretch;justify-content: center;background-color: white;position: relative;}#sk-container-id-6 div.sk-item::before, #sk-container-id-6 div.sk-parallel-item::before {content: \"\";position: absolute;border-left: 1px solid gray;box-sizing: border-box;top: 0;bottom: 0;left: 50%;z-index: -1;}#sk-container-id-6 div.sk-parallel-item {display: flex;flex-direction: column;z-index: 1;position: relative;background-color: white;}#sk-container-id-6 div.sk-parallel-item:first-child::after {align-self: flex-end;width: 50%;}#sk-container-id-6 div.sk-parallel-item:last-child::after {align-self: flex-start;width: 50%;}#sk-container-id-6 div.sk-parallel-item:only-child::after {width: 0;}#sk-container-id-6 div.sk-dashed-wrapped {border: 1px dashed gray;margin: 0 0.4em 0.5em 0.4em;box-sizing: border-box;padding-bottom: 0.4em;background-color: white;}#sk-container-id-6 div.sk-label label {font-family: monospace;font-weight: bold;display: inline-block;line-height: 1.2em;}#sk-container-id-6 div.sk-label-container {text-align: center;}#sk-container-id-6 div.sk-container {/* jupyter's `normalize.less` sets `[hidden] { display: none; }` but bootstrap.min.css set `[hidden] { display: none !important; }` so we also need the `!important` here to be able to override the default hidden behavior on the sphinx rendered scikit-learn.org. See: https://github.com/scikit-learn/scikit-learn/issues/21755 */display: inline-block !important;position: relative;}#sk-container-id-6 div.sk-text-repr-fallback {display: none;}</style><div id=\"sk-container-id-6\" class=\"sk-top-container\"><div class=\"sk-text-repr-fallback\"><pre>LogisticRegression()</pre><b>In a Jupyter environment, please rerun this cell to show the HTML representation or trust the notebook. <br />On GitHub, the HTML representation is unable to render, please try loading this page with nbviewer.org.</b></div><div class=\"sk-container\" hidden><div class=\"sk-item\"><div class=\"sk-estimator sk-toggleable\"><input class=\"sk-toggleable__control sk-hidden--visually\" id=\"sk-estimator-id-6\" type=\"checkbox\" checked><label for=\"sk-estimator-id-6\" class=\"sk-toggleable__label sk-toggleable__label-arrow\">LogisticRegression</label><div class=\"sk-toggleable__content\"><pre>LogisticRegression()</pre></div></div></div></div></div>"
      ],
      "text/plain": [
       "LogisticRegression()"
      ]
     },
     "execution_count": 103,
     "metadata": {},
     "output_type": "execute_result"
    }
   ],
   "source": [
    "algoritmo.fit(X2_train,y2_train)"
   ]
  },
  {
   "cell_type": "code",
   "execution_count": 104,
   "metadata": {},
   "outputs": [
    {
     "data": {
      "text/plain": [
       "array(['Bajo', 'Bajo', 'Alto', ..., 'Bajo', 'Bajo', 'Bajo'], dtype=object)"
      ]
     },
     "execution_count": 104,
     "metadata": {},
     "output_type": "execute_result"
    }
   ],
   "source": [
    "#Se realiza la predicción\n",
    "y2_pred =algoritmo.predict(X2_test)\n",
    "y2_pred"
   ]
  },
  {
   "cell_type": "code",
   "execution_count": 105,
   "metadata": {},
   "outputs": [
    {
     "name": "stdout",
     "output_type": "stream",
     "text": [
      "[[1144  551]\n",
      " [ 354 1846]]\n"
     ]
    }
   ],
   "source": [
    "from sklearn.metrics import confusion_matrix\n",
    "matriz2 = confusion_matrix(y2_test,y2_pred)\n",
    "print(matriz2)"
   ]
  },
  {
   "cell_type": "code",
   "execution_count": 106,
   "metadata": {},
   "outputs": [
    {
     "name": "stdout",
     "output_type": "stream",
     "text": [
      "Precisión del modelo: \n",
      "0.7636849132176236\n"
     ]
    }
   ],
   "source": [
    "from sklearn.metrics import precision_score\n",
    "\n",
    "presicion2 =precision_score(y2_test, y2_pred, average = \"binary\", pos_label = \"Alto\")\n",
    "print (\"Precisión del modelo: \")\n",
    "print(presicion2)"
   ]
  },
  {
   "cell_type": "code",
   "execution_count": 107,
   "metadata": {},
   "outputs": [
    {
     "name": "stdout",
     "output_type": "stream",
     "text": [
      "Exactitud del modelo: \n",
      "0.7676508344030809\n"
     ]
    }
   ],
   "source": [
    "from sklearn.metrics import accuracy_score\n",
    "\n",
    "exactitud2 = accuracy_score(y2_test, y2_pred)\n",
    "print('Exactitud del modelo: ')\n",
    "print(exactitud2)"
   ]
  },
  {
   "cell_type": "code",
   "execution_count": 108,
   "metadata": {},
   "outputs": [
    {
     "name": "stdout",
     "output_type": "stream",
     "text": [
      "Sensibilidad del modelo: \n",
      "0.6749262536873156\n"
     ]
    }
   ],
   "source": [
    "from sklearn.metrics import recall_score\n",
    "\n",
    "sensibilidad2 = recall_score(y2_test, y2_pred, average = \"binary\", pos_label = 'Alto')\n",
    "print('Sensibilidad del modelo: ')\n",
    "print(sensibilidad2)"
   ]
  },
  {
   "cell_type": "code",
   "execution_count": 109,
   "metadata": {},
   "outputs": [
    {
     "name": "stdout",
     "output_type": "stream",
     "text": [
      "Puntaje F1 del modelo: \n",
      "0.7165674913874099\n"
     ]
    }
   ],
   "source": [
    "from sklearn.metrics import f1_score\n",
    "\n",
    "puntajef1_puntos = f1_score(y2_test, y2_pred, average = \"binary\", pos_label = \"Alto\")\n",
    "print('Puntaje F1 del modelo: ')\n",
    "print(puntajef1_puntos)"
   ]
  },
  {
   "cell_type": "code",
   "execution_count": 110,
   "metadata": {},
   "outputs": [
    {
     "name": "stdout",
     "output_type": "stream",
     "text": [
      "Classification Report:\n",
      "              precision    recall  f1-score   support\n",
      "\n",
      "        Alto       0.76      0.67      0.72      1695\n",
      "        Bajo       0.77      0.84      0.80      2200\n",
      "\n",
      "    accuracy                           0.77      3895\n",
      "   macro avg       0.77      0.76      0.76      3895\n",
      "weighted avg       0.77      0.77      0.77      3895\n",
      "\n"
     ]
    }
   ],
   "source": [
    "class_report = classification_report(y2_test, y2_pred)\n",
    "print('Classification Report:')\n",
    "print(class_report)"
   ]
  },
  {
   "cell_type": "markdown",
   "metadata": {},
   "source": [
    "**StatusCuenta**"
   ]
  },
  {
   "cell_type": "markdown",
   "metadata": {},
   "source": [
    "Esta variable es demasiado impornate para el análisis del cliente, mediante el análisis de estos que están al corriente y los que no lo están lograremos obtener las variables claves que nos indique a que posible grupo pueda categorizarse cada uno."
   ]
  },
  {
   "cell_type": "code",
   "execution_count": 111,
   "metadata": {},
   "outputs": [],
   "source": [
    "#1. Seleccionamos las variables de interés.\n",
    "status = df.iloc[ : , [7,8,9,11,12,13,27,25,30,24]]"
   ]
  },
  {
   "cell_type": "code",
   "execution_count": 112,
   "metadata": {},
   "outputs": [
    {
     "data": {
      "text/plain": [
       "precio                 0\n",
       "enganche               0\n",
       "descuento              0\n",
       "monto_financiado       0\n",
       "costo_total            0\n",
       "monto_accesorios       0\n",
       "score_buro             0\n",
       "puntos                 0\n",
       "limite_credito         0\n",
       "status_cuenta       3314\n",
       "dtype: int64"
      ]
     },
     "execution_count": 112,
     "metadata": {},
     "output_type": "execute_result"
    }
   ],
   "source": [
    "#2. Verificamos datos nulos\n",
    "status.isnull().sum()"
   ]
  },
  {
   "cell_type": "code",
   "execution_count": 113,
   "metadata": {},
   "outputs": [],
   "source": [
    "# 3. Utilizaremos como variable dependinte \"status_cuenta\" con un filtro que catalogue \"fraude\" y \"corriente\"\n",
    "status = status[(status[\"status_cuenta\"]==\"Fraude\") | (status[\"status_cuenta\"]== \"Corriente\")]\n",
    "#status.info()"
   ]
  },
  {
   "cell_type": "code",
   "execution_count": 114,
   "metadata": {},
   "outputs": [
    {
     "data": {
      "text/plain": [
       "status_cuenta\n",
       "Corriente    10014\n",
       "Fraude        1696\n",
       "Name: count, dtype: int64"
      ]
     },
     "execution_count": 114,
     "metadata": {},
     "output_type": "execute_result"
    }
   ],
   "source": [
    "frecuenciaStatus = status[\"status_cuenta\"].value_counts()\n",
    "frecuenciaStatus"
   ]
  },
  {
   "cell_type": "code",
   "execution_count": 115,
   "metadata": {},
   "outputs": [],
   "source": [
    "status_indep = status[[\"precio\",\"enganche\",\"descuento\",\"costo_total\",\"monto_accesorios\",\"score_buro\",\"puntos\",\"limite_credito\"]]\n",
    "status_dep = status[[\"status_cuenta\"]]"
   ]
  },
  {
   "cell_type": "code",
   "execution_count": 116,
   "metadata": {},
   "outputs": [],
   "source": [
    "X3 = status_indep\n",
    "y3=status_dep"
   ]
  },
  {
   "cell_type": "code",
   "execution_count": 117,
   "metadata": {},
   "outputs": [],
   "source": [
    "X3_train, X3_test, y3_train,y3_test =train_test_split(X3,y3,test_size =0.3, random_state= None)\n"
   ]
  },
  {
   "cell_type": "code",
   "execution_count": 118,
   "metadata": {},
   "outputs": [],
   "source": [
    "escalarStatus = StandardScaler()"
   ]
  },
  {
   "cell_type": "code",
   "execution_count": 119,
   "metadata": {},
   "outputs": [],
   "source": [
    "X3_train =escalarStatus.fit_transform(X3_train)\n",
    "X3_test =escalarStatus.transform(X3_test)    "
   ]
  },
  {
   "cell_type": "code",
   "execution_count": 120,
   "metadata": {},
   "outputs": [
    {
     "name": "stderr",
     "output_type": "stream",
     "text": [
      "c:\\Users\\Carlos Casillas\\AppData\\Local\\Programs\\Python\\Python311\\Lib\\site-packages\\sklearn\\utils\\validation.py:1184: DataConversionWarning: A column-vector y was passed when a 1d array was expected. Please change the shape of y to (n_samples, ), for example using ravel().\n",
      "  y = column_or_1d(y, warn=True)\n"
     ]
    },
    {
     "data": {
      "text/html": [
       "<style>#sk-container-id-7 {color: black;}#sk-container-id-7 pre{padding: 0;}#sk-container-id-7 div.sk-toggleable {background-color: white;}#sk-container-id-7 label.sk-toggleable__label {cursor: pointer;display: block;width: 100%;margin-bottom: 0;padding: 0.3em;box-sizing: border-box;text-align: center;}#sk-container-id-7 label.sk-toggleable__label-arrow:before {content: \"▸\";float: left;margin-right: 0.25em;color: #696969;}#sk-container-id-7 label.sk-toggleable__label-arrow:hover:before {color: black;}#sk-container-id-7 div.sk-estimator:hover label.sk-toggleable__label-arrow:before {color: black;}#sk-container-id-7 div.sk-toggleable__content {max-height: 0;max-width: 0;overflow: hidden;text-align: left;background-color: #f0f8ff;}#sk-container-id-7 div.sk-toggleable__content pre {margin: 0.2em;color: black;border-radius: 0.25em;background-color: #f0f8ff;}#sk-container-id-7 input.sk-toggleable__control:checked~div.sk-toggleable__content {max-height: 200px;max-width: 100%;overflow: auto;}#sk-container-id-7 input.sk-toggleable__control:checked~label.sk-toggleable__label-arrow:before {content: \"▾\";}#sk-container-id-7 div.sk-estimator input.sk-toggleable__control:checked~label.sk-toggleable__label {background-color: #d4ebff;}#sk-container-id-7 div.sk-label input.sk-toggleable__control:checked~label.sk-toggleable__label {background-color: #d4ebff;}#sk-container-id-7 input.sk-hidden--visually {border: 0;clip: rect(1px 1px 1px 1px);clip: rect(1px, 1px, 1px, 1px);height: 1px;margin: -1px;overflow: hidden;padding: 0;position: absolute;width: 1px;}#sk-container-id-7 div.sk-estimator {font-family: monospace;background-color: #f0f8ff;border: 1px dotted black;border-radius: 0.25em;box-sizing: border-box;margin-bottom: 0.5em;}#sk-container-id-7 div.sk-estimator:hover {background-color: #d4ebff;}#sk-container-id-7 div.sk-parallel-item::after {content: \"\";width: 100%;border-bottom: 1px solid gray;flex-grow: 1;}#sk-container-id-7 div.sk-label:hover label.sk-toggleable__label {background-color: #d4ebff;}#sk-container-id-7 div.sk-serial::before {content: \"\";position: absolute;border-left: 1px solid gray;box-sizing: border-box;top: 0;bottom: 0;left: 50%;z-index: 0;}#sk-container-id-7 div.sk-serial {display: flex;flex-direction: column;align-items: center;background-color: white;padding-right: 0.2em;padding-left: 0.2em;position: relative;}#sk-container-id-7 div.sk-item {position: relative;z-index: 1;}#sk-container-id-7 div.sk-parallel {display: flex;align-items: stretch;justify-content: center;background-color: white;position: relative;}#sk-container-id-7 div.sk-item::before, #sk-container-id-7 div.sk-parallel-item::before {content: \"\";position: absolute;border-left: 1px solid gray;box-sizing: border-box;top: 0;bottom: 0;left: 50%;z-index: -1;}#sk-container-id-7 div.sk-parallel-item {display: flex;flex-direction: column;z-index: 1;position: relative;background-color: white;}#sk-container-id-7 div.sk-parallel-item:first-child::after {align-self: flex-end;width: 50%;}#sk-container-id-7 div.sk-parallel-item:last-child::after {align-self: flex-start;width: 50%;}#sk-container-id-7 div.sk-parallel-item:only-child::after {width: 0;}#sk-container-id-7 div.sk-dashed-wrapped {border: 1px dashed gray;margin: 0 0.4em 0.5em 0.4em;box-sizing: border-box;padding-bottom: 0.4em;background-color: white;}#sk-container-id-7 div.sk-label label {font-family: monospace;font-weight: bold;display: inline-block;line-height: 1.2em;}#sk-container-id-7 div.sk-label-container {text-align: center;}#sk-container-id-7 div.sk-container {/* jupyter's `normalize.less` sets `[hidden] { display: none; }` but bootstrap.min.css set `[hidden] { display: none !important; }` so we also need the `!important` here to be able to override the default hidden behavior on the sphinx rendered scikit-learn.org. See: https://github.com/scikit-learn/scikit-learn/issues/21755 */display: inline-block !important;position: relative;}#sk-container-id-7 div.sk-text-repr-fallback {display: none;}</style><div id=\"sk-container-id-7\" class=\"sk-top-container\"><div class=\"sk-text-repr-fallback\"><pre>LogisticRegression()</pre><b>In a Jupyter environment, please rerun this cell to show the HTML representation or trust the notebook. <br />On GitHub, the HTML representation is unable to render, please try loading this page with nbviewer.org.</b></div><div class=\"sk-container\" hidden><div class=\"sk-item\"><div class=\"sk-estimator sk-toggleable\"><input class=\"sk-toggleable__control sk-hidden--visually\" id=\"sk-estimator-id-7\" type=\"checkbox\" checked><label for=\"sk-estimator-id-7\" class=\"sk-toggleable__label sk-toggleable__label-arrow\">LogisticRegression</label><div class=\"sk-toggleable__content\"><pre>LogisticRegression()</pre></div></div></div></div></div>"
      ],
      "text/plain": [
       "LogisticRegression()"
      ]
     },
     "execution_count": 120,
     "metadata": {},
     "output_type": "execute_result"
    }
   ],
   "source": [
    "algoritmo.fit(X3_train,y3_train)"
   ]
  },
  {
   "cell_type": "code",
   "execution_count": 121,
   "metadata": {},
   "outputs": [
    {
     "data": {
      "text/plain": [
       "array(['Corriente', 'Corriente', 'Corriente', ..., 'Corriente',\n",
       "       'Corriente', 'Corriente'], dtype=object)"
      ]
     },
     "execution_count": 121,
     "metadata": {},
     "output_type": "execute_result"
    }
   ],
   "source": [
    "y3_pred =algoritmo.predict(X3_test)\n",
    "y3_pred"
   ]
  },
  {
   "cell_type": "code",
   "execution_count": 122,
   "metadata": {},
   "outputs": [
    {
     "name": "stdout",
     "output_type": "stream",
     "text": [
      "[[2992    2]\n",
      " [ 519    0]]\n"
     ]
    }
   ],
   "source": [
    "from sklearn.metrics import confusion_matrix\n",
    "matriz3 = confusion_matrix(y3_test,y3_pred)\n",
    "print(matriz3)"
   ]
  },
  {
   "cell_type": "code",
   "execution_count": 123,
   "metadata": {},
   "outputs": [
    {
     "name": "stdout",
     "output_type": "stream",
     "text": [
      "Precisión del modelo: \n",
      "0.8521788664198234\n"
     ]
    }
   ],
   "source": [
    "precision3 =precision_score(y3_test, y3_pred, average = \"binary\", pos_label = \"Corriente\")\n",
    "print (\"Precisión del modelo: \")\n",
    "print(precision3)"
   ]
  },
  {
   "cell_type": "code",
   "execution_count": 124,
   "metadata": {},
   "outputs": [
    {
     "name": "stdout",
     "output_type": "stream",
     "text": [
      "Precisión del modelo: \n",
      "0.0\n"
     ]
    }
   ],
   "source": [
    "precision3 =precision_score(y3_test, y3_pred, average = \"binary\", pos_label = \"Fraude\")\n",
    "print (\"Precisión del modelo: \")\n",
    "print(precision3)"
   ]
  },
  {
   "cell_type": "code",
   "execution_count": 125,
   "metadata": {},
   "outputs": [
    {
     "name": "stdout",
     "output_type": "stream",
     "text": [
      "Exactitud del modelo: \n",
      "0.851693709080558\n"
     ]
    }
   ],
   "source": [
    "exactitud3 = accuracy_score(y3_test, y3_pred)\n",
    "print('Exactitud del modelo: ')\n",
    "print(exactitud3)"
   ]
  },
  {
   "cell_type": "code",
   "execution_count": 126,
   "metadata": {},
   "outputs": [
    {
     "name": "stdout",
     "output_type": "stream",
     "text": [
      "Sensibilidad del modelo: \n",
      "0.9993319973279893\n"
     ]
    }
   ],
   "source": [
    "sensibilidad3 = recall_score(y3_test, y3_pred, average = \"binary\", pos_label = 'Corriente')\n",
    "print('Sensibilidad del modelo: ')\n",
    "print(sensibilidad3)\n"
   ]
  },
  {
   "cell_type": "code",
   "execution_count": 127,
   "metadata": {},
   "outputs": [
    {
     "name": "stdout",
     "output_type": "stream",
     "text": [
      "Sensibilidad del modelo: \n",
      "0.0\n"
     ]
    }
   ],
   "source": [
    "sensibilidad3 = recall_score(y3_test, y3_pred, average = \"binary\", pos_label = 'Fraude')\n",
    "print('Sensibilidad del modelo: ')\n",
    "print(sensibilidad3)"
   ]
  },
  {
   "cell_type": "code",
   "execution_count": 128,
   "metadata": {},
   "outputs": [
    {
     "name": "stdout",
     "output_type": "stream",
     "text": [
      "Puntaje F1 del modelo: \n",
      "0.9199077632590316\n"
     ]
    }
   ],
   "source": [
    "puntajef1_status = f1_score(y3_test, y3_pred, average = \"binary\", pos_label = \"Corriente\")\n",
    "print('Puntaje F1 del modelo: ')\n",
    "print(puntajef1_status)"
   ]
  },
  {
   "cell_type": "code",
   "execution_count": 129,
   "metadata": {},
   "outputs": [
    {
     "name": "stdout",
     "output_type": "stream",
     "text": [
      "Puntaje F1 del modelo: \n",
      "0.0\n"
     ]
    }
   ],
   "source": [
    "puntajef1_status = f1_score(y3_test, y3_pred, average = \"binary\", pos_label = \"Fraude\")\n",
    "print('Puntaje F1 del modelo: ')\n",
    "print(puntajef1_status)"
   ]
  },
  {
   "cell_type": "markdown",
   "metadata": {},
   "source": [
    "**PORCENTAJE DE ENGANCHE**"
   ]
  },
  {
   "cell_type": "markdown",
   "metadata": {},
   "source": [
    "Esta si es una variable interesante, parte del riesgo que se corre al terminar de pagar el equipo se basa en los plazos y la cantidad a pagar, por lo que esta variable nos explicará si necesitamos en enganche \"neutro\" o \"alto\"."
   ]
  },
  {
   "cell_type": "code",
   "execution_count": 130,
   "metadata": {},
   "outputs": [
    {
     "name": "stdout",
     "output_type": "stream",
     "text": [
      "count    22735.000000\n",
      "mean        23.189330\n",
      "std          7.067519\n",
      "min          0.000000\n",
      "25%         18.450000\n",
      "50%         22.900000\n",
      "75%         25.800000\n",
      "max         89.830000\n",
      "Name: porc_eng, dtype: float64\n"
     ]
    }
   ],
   "source": [
    "#Exploración de la variable de interés\n",
    "engStats = df[\"porc_eng\"].describe()\n",
    "print(engStats)"
   ]
  },
  {
   "cell_type": "code",
   "execution_count": 131,
   "metadata": {},
   "outputs": [],
   "source": [
    "enganche = df.iloc[ : , [27,29]]"
   ]
  },
  {
   "cell_type": "markdown",
   "metadata": {},
   "source": [
    "Normlamnete se solicita un enganche del 25% al 30%, por lo que el método discriminante será el establecido por la empresa donde una persona que deja un enganche <30% será \"normal\" uno que necesite enganche >30% será \"riesgo\"."
   ]
  },
  {
   "cell_type": "code",
   "execution_count": 132,
   "metadata": {},
   "outputs": [
    {
     "name": "stderr",
     "output_type": "stream",
     "text": [
      "C:\\Users\\Carlos Casillas\\AppData\\Local\\Temp\\ipykernel_8392\\257451076.py:11: SettingWithCopyWarning: \n",
      "A value is trying to be set on a copy of a slice from a DataFrame.\n",
      "Try using .loc[row_indexer,col_indexer] = value instead\n",
      "\n",
      "See the caveats in the documentation: https://pandas.pydata.org/pandas-docs/stable/user_guide/indexing.html#returning-a-view-versus-a-copy\n",
      "  enganche['porc_eng'] = enganche[\"porc_eng\"].apply(categorizar_valor)\n"
     ]
    }
   ],
   "source": [
    "enganchePercent = 30\n",
    "\n",
    "# Definir una función que asignará la categoría\n",
    "def categorizar_valor(valor):\n",
    "    if valor > enganchePercent:\n",
    "        return \"ClienteAR\"\n",
    "    else:\n",
    "        return 'ClienteBR'\n",
    "\n",
    "# Aplicar la función a la columna y crear una nueva columna con las categorías\n",
    "enganche['porc_eng'] = enganche[\"porc_eng\"].apply(categorizar_valor)"
   ]
  },
  {
   "cell_type": "code",
   "execution_count": 133,
   "metadata": {},
   "outputs": [],
   "source": [
    "X4 = enganche[[\"score_buro\"]]\n",
    "y4 = enganche[[\"porc_eng\"]]"
   ]
  },
  {
   "cell_type": "code",
   "execution_count": 134,
   "metadata": {},
   "outputs": [],
   "source": [
    "X4_train, X4_test, y4_train, y4_test = train_test_split(X4, y4, test_size=0.2, random_state=42)\n"
   ]
  },
  {
   "cell_type": "code",
   "execution_count": 135,
   "metadata": {},
   "outputs": [],
   "source": [
    "X4_train =escalarPrecio.fit_transform(X4_train)\n",
    "X4_test =escalarPrecio.transform(X4_test)"
   ]
  },
  {
   "cell_type": "code",
   "execution_count": 136,
   "metadata": {},
   "outputs": [
    {
     "name": "stderr",
     "output_type": "stream",
     "text": [
      "c:\\Users\\Carlos Casillas\\AppData\\Local\\Programs\\Python\\Python311\\Lib\\site-packages\\sklearn\\utils\\validation.py:1184: DataConversionWarning: A column-vector y was passed when a 1d array was expected. Please change the shape of y to (n_samples, ), for example using ravel().\n",
      "  y = column_or_1d(y, warn=True)\n"
     ]
    },
    {
     "data": {
      "text/html": [
       "<style>#sk-container-id-8 {color: black;}#sk-container-id-8 pre{padding: 0;}#sk-container-id-8 div.sk-toggleable {background-color: white;}#sk-container-id-8 label.sk-toggleable__label {cursor: pointer;display: block;width: 100%;margin-bottom: 0;padding: 0.3em;box-sizing: border-box;text-align: center;}#sk-container-id-8 label.sk-toggleable__label-arrow:before {content: \"▸\";float: left;margin-right: 0.25em;color: #696969;}#sk-container-id-8 label.sk-toggleable__label-arrow:hover:before {color: black;}#sk-container-id-8 div.sk-estimator:hover label.sk-toggleable__label-arrow:before {color: black;}#sk-container-id-8 div.sk-toggleable__content {max-height: 0;max-width: 0;overflow: hidden;text-align: left;background-color: #f0f8ff;}#sk-container-id-8 div.sk-toggleable__content pre {margin: 0.2em;color: black;border-radius: 0.25em;background-color: #f0f8ff;}#sk-container-id-8 input.sk-toggleable__control:checked~div.sk-toggleable__content {max-height: 200px;max-width: 100%;overflow: auto;}#sk-container-id-8 input.sk-toggleable__control:checked~label.sk-toggleable__label-arrow:before {content: \"▾\";}#sk-container-id-8 div.sk-estimator input.sk-toggleable__control:checked~label.sk-toggleable__label {background-color: #d4ebff;}#sk-container-id-8 div.sk-label input.sk-toggleable__control:checked~label.sk-toggleable__label {background-color: #d4ebff;}#sk-container-id-8 input.sk-hidden--visually {border: 0;clip: rect(1px 1px 1px 1px);clip: rect(1px, 1px, 1px, 1px);height: 1px;margin: -1px;overflow: hidden;padding: 0;position: absolute;width: 1px;}#sk-container-id-8 div.sk-estimator {font-family: monospace;background-color: #f0f8ff;border: 1px dotted black;border-radius: 0.25em;box-sizing: border-box;margin-bottom: 0.5em;}#sk-container-id-8 div.sk-estimator:hover {background-color: #d4ebff;}#sk-container-id-8 div.sk-parallel-item::after {content: \"\";width: 100%;border-bottom: 1px solid gray;flex-grow: 1;}#sk-container-id-8 div.sk-label:hover label.sk-toggleable__label {background-color: #d4ebff;}#sk-container-id-8 div.sk-serial::before {content: \"\";position: absolute;border-left: 1px solid gray;box-sizing: border-box;top: 0;bottom: 0;left: 50%;z-index: 0;}#sk-container-id-8 div.sk-serial {display: flex;flex-direction: column;align-items: center;background-color: white;padding-right: 0.2em;padding-left: 0.2em;position: relative;}#sk-container-id-8 div.sk-item {position: relative;z-index: 1;}#sk-container-id-8 div.sk-parallel {display: flex;align-items: stretch;justify-content: center;background-color: white;position: relative;}#sk-container-id-8 div.sk-item::before, #sk-container-id-8 div.sk-parallel-item::before {content: \"\";position: absolute;border-left: 1px solid gray;box-sizing: border-box;top: 0;bottom: 0;left: 50%;z-index: -1;}#sk-container-id-8 div.sk-parallel-item {display: flex;flex-direction: column;z-index: 1;position: relative;background-color: white;}#sk-container-id-8 div.sk-parallel-item:first-child::after {align-self: flex-end;width: 50%;}#sk-container-id-8 div.sk-parallel-item:last-child::after {align-self: flex-start;width: 50%;}#sk-container-id-8 div.sk-parallel-item:only-child::after {width: 0;}#sk-container-id-8 div.sk-dashed-wrapped {border: 1px dashed gray;margin: 0 0.4em 0.5em 0.4em;box-sizing: border-box;padding-bottom: 0.4em;background-color: white;}#sk-container-id-8 div.sk-label label {font-family: monospace;font-weight: bold;display: inline-block;line-height: 1.2em;}#sk-container-id-8 div.sk-label-container {text-align: center;}#sk-container-id-8 div.sk-container {/* jupyter's `normalize.less` sets `[hidden] { display: none; }` but bootstrap.min.css set `[hidden] { display: none !important; }` so we also need the `!important` here to be able to override the default hidden behavior on the sphinx rendered scikit-learn.org. See: https://github.com/scikit-learn/scikit-learn/issues/21755 */display: inline-block !important;position: relative;}#sk-container-id-8 div.sk-text-repr-fallback {display: none;}</style><div id=\"sk-container-id-8\" class=\"sk-top-container\"><div class=\"sk-text-repr-fallback\"><pre>LogisticRegression()</pre><b>In a Jupyter environment, please rerun this cell to show the HTML representation or trust the notebook. <br />On GitHub, the HTML representation is unable to render, please try loading this page with nbviewer.org.</b></div><div class=\"sk-container\" hidden><div class=\"sk-item\"><div class=\"sk-estimator sk-toggleable\"><input class=\"sk-toggleable__control sk-hidden--visually\" id=\"sk-estimator-id-8\" type=\"checkbox\" checked><label for=\"sk-estimator-id-8\" class=\"sk-toggleable__label sk-toggleable__label-arrow\">LogisticRegression</label><div class=\"sk-toggleable__content\"><pre>LogisticRegression()</pre></div></div></div></div></div>"
      ],
      "text/plain": [
       "LogisticRegression()"
      ]
     },
     "execution_count": 136,
     "metadata": {},
     "output_type": "execute_result"
    }
   ],
   "source": [
    "logistic_model = LogisticRegression()\n",
    "logistic_model.fit(X4_train, y4_train)"
   ]
  },
  {
   "cell_type": "code",
   "execution_count": 137,
   "metadata": {},
   "outputs": [],
   "source": [
    "y4_pred = logistic_model.predict(X4_test)\n"
   ]
  },
  {
   "cell_type": "code",
   "execution_count": 138,
   "metadata": {},
   "outputs": [
    {
     "name": "stdout",
     "output_type": "stream",
     "text": [
      "Confusion Matrix:\n",
      "[[   0  537]\n",
      " [   0 4010]]\n"
     ]
    }
   ],
   "source": [
    "confusion = confusion_matrix(y4_test, y4_pred)\n",
    "print('Confusion Matrix:')\n",
    "print(confusion)"
   ]
  },
  {
   "cell_type": "code",
   "execution_count": 139,
   "metadata": {},
   "outputs": [
    {
     "name": "stdout",
     "output_type": "stream",
     "text": [
      "Classification Report:\n",
      "              precision    recall  f1-score   support\n",
      "\n",
      "   ClienteAR       0.00      0.00      0.00       537\n",
      "   ClienteBR       0.88      1.00      0.94      4010\n",
      "\n",
      "    accuracy                           0.88      4547\n",
      "   macro avg       0.44      0.50      0.47      4547\n",
      "weighted avg       0.78      0.88      0.83      4547\n",
      "\n"
     ]
    },
    {
     "name": "stderr",
     "output_type": "stream",
     "text": [
      "c:\\Users\\Carlos Casillas\\AppData\\Local\\Programs\\Python\\Python311\\Lib\\site-packages\\sklearn\\metrics\\_classification.py:1469: UndefinedMetricWarning: Precision and F-score are ill-defined and being set to 0.0 in labels with no predicted samples. Use `zero_division` parameter to control this behavior.\n",
      "  _warn_prf(average, modifier, msg_start, len(result))\n",
      "c:\\Users\\Carlos Casillas\\AppData\\Local\\Programs\\Python\\Python311\\Lib\\site-packages\\sklearn\\metrics\\_classification.py:1469: UndefinedMetricWarning: Precision and F-score are ill-defined and being set to 0.0 in labels with no predicted samples. Use `zero_division` parameter to control this behavior.\n",
      "  _warn_prf(average, modifier, msg_start, len(result))\n",
      "c:\\Users\\Carlos Casillas\\AppData\\Local\\Programs\\Python\\Python311\\Lib\\site-packages\\sklearn\\metrics\\_classification.py:1469: UndefinedMetricWarning: Precision and F-score are ill-defined and being set to 0.0 in labels with no predicted samples. Use `zero_division` parameter to control this behavior.\n",
      "  _warn_prf(average, modifier, msg_start, len(result))\n"
     ]
    }
   ],
   "source": [
    "class_report = classification_report(y4_test, y4_pred)\n",
    "print('Classification Report:')\n",
    "print(class_report)"
   ]
  },
  {
   "cell_type": "code",
   "execution_count": null,
   "metadata": {},
   "outputs": [],
   "source": []
  },
  {
   "cell_type": "code",
   "execution_count": null,
   "metadata": {},
   "outputs": [],
   "source": []
  },
  {
   "cell_type": "code",
   "execution_count": null,
   "metadata": {},
   "outputs": [],
   "source": []
  },
  {
   "cell_type": "code",
   "execution_count": null,
   "metadata": {},
   "outputs": [],
   "source": []
  },
  {
   "cell_type": "code",
   "execution_count": null,
   "metadata": {},
   "outputs": [],
   "source": []
  },
  {
   "cell_type": "code",
   "execution_count": null,
   "metadata": {},
   "outputs": [],
   "source": []
  }
 ],
 "metadata": {
  "kernelspec": {
   "display_name": "Python 3",
   "language": "python",
   "name": "python3"
  },
  "language_info": {
   "codemirror_mode": {
    "name": "ipython",
    "version": 3
   },
   "file_extension": ".py",
   "mimetype": "text/x-python",
   "name": "python",
   "nbconvert_exporter": "python",
   "pygments_lexer": "ipython3",
   "version": "3.11.4"
  }
 },
 "nbformat": 4,
 "nbformat_minor": 2
}
